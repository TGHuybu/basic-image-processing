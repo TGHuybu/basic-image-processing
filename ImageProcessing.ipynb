{
 "cells": [
  {
   "cell_type": "markdown",
   "metadata": {},
   "source": [
    "# **Project 2 - Image Processing**\n",
    "Huy G. Tong $^{1 *}$ \\\n",
    "$^{1}$ *Faculty of Information Technology, VNUHCM - University of Science, Vietnam*\n"
   ]
  },
  {
   "cell_type": "markdown",
   "metadata": {},
   "source": [
    "### **ABSTRACT**\n",
    "Ever since the invention of the first camera in the 1800s, photographs have become an inseparable part of our lives. We took pictures to tell stories of our society, our way of life. Not only that, we used those images to study phenomenons around us: animals, geography, from small things like atoms and microbes to celestial bodies in the depth of space far from our reach. It is not common to find a field of science where photography is not present. As technology for capturing light progressed, new methods of processing images were also created. From developing photographs in darkrooms, now we are able of performing intricate operations on individual pixels of digital images with the help of softwares like Adobe Lighroom or Photoshop. In this project, I will study some basic and commonly used image processing techniques to grasp a deeper understanding of how digital images are manipulated in those programs."
   ]
  },
  {
   "cell_type": "markdown",
   "metadata": {},
   "source": [
    "### **IMPLEMENTATION**\n",
    "This section will display the implementation of some basic image processing functions in Python. First we have to import all necessary packages:"
   ]
  },
  {
   "cell_type": "code",
   "execution_count": null,
   "metadata": {},
   "outputs": [],
   "source": [
    "import numpy as np\n",
    "import matplotlib.pyplot as plt\n",
    "import PIL\n",
    "import time"
   ]
  },
  {
   "cell_type": "markdown",
   "metadata": {},
   "source": [
    "#### Brightness adjustment"
   ]
  },
  {
   "cell_type": "code",
   "execution_count": null,
   "metadata": {},
   "outputs": [],
   "source": [
    "def adjust_brightness(img, factor=1.5):\n",
    "\n",
    "    # Preserve the alpha channel of RGB images\n",
    "    if img.ndim == 3 and img.shape[-1] > 3:\n",
    "        alpha = img[:, :, img.shape[-1] - 1:img.shape[-1]]\n",
    "\n",
    "    img = factor * img\n",
    "\n",
    "    if img.ndim == 3 and img.shape[-1] > 3:\n",
    "        img[:, :, img.shape[-1] - 1:img.shape[-1]] = alpha\n",
    "        \n",
    "    img = np.clip(img, a_min=0, a_max=255)\n",
    "\n",
    "    return img.astype(np.uint8)"
   ]
  },
  {
   "cell_type": "markdown",
   "metadata": {},
   "source": [
    "#### Contrast adjustment"
   ]
  },
  {
   "cell_type": "markdown",
   "metadata": {},
   "source": [
    "For contrast adjustment, I provide 2 types of modes: `linear` - a simple equation that multiplies the current pixel value to a factor, and `curve` - which uses a simple power-law S-curve."
   ]
  },
  {
   "cell_type": "code",
   "execution_count": null,
   "metadata": {},
   "outputs": [],
   "source": [
    "def lower_curve(x, gamma): \n",
    "    return 0.5 * (x / 0.5)**gamma\n",
    "\n",
    "\n",
    "def upper_curve(x, gamma):\n",
    "    return 1 - 0.5 * ((1 - x) / 0.5)**gamma\n",
    "\n",
    "\n",
    "def adjust_contrast(img, factor, mode=\"multiply\"):\n",
    "\n",
    "    # Preserve the alpha channel of RGB images\n",
    "    if img.ndim == 3 and img.shape[-1] > 3:\n",
    "        alpha = img[:, :, img.shape[-1] - 1:img.shape[-1]]\n",
    "\n",
    "    if mode == \"curve\":\n",
    "        normalized = img / 255\n",
    "        normalized[:,:,:][normalized < 0.5] = lower_curve(normalized[:,:,:][normalized < 0.5], factor)\n",
    "        normalized[:,:,:][normalized >= 0.5] = upper_curve(normalized[:,:,:][normalized >= 0.5], factor)\n",
    "\n",
    "        normalized = np.clip(normalized, a_min=0, a_max=1)\n",
    "\n",
    "        processed = normalized * 255\n",
    "\n",
    "        if img.ndim == 3 and img.shape[-1] > 3:\n",
    "            processed[:, :, img.shape[-1] - 1:img.shape[-1]] = alpha\n",
    "        \n",
    "        return processed.astype(np.uint8)\n",
    "    \n",
    "    processed = factor * (img / 255 - 0.5) + 0.5\n",
    "    processed = processed * 255\n",
    "\n",
    "    if img.ndim == 3 and img.shape[-1] > 3:\n",
    "        processed[:, :, img.shape[-1] - 1:img.shape[-1]] = alpha\n",
    "        \n",
    "    processed = np.clip(processed, a_min=0, a_max=255)\n",
    "    \n",
    "    return processed.astype(np.uint8)"
   ]
  },
  {
   "cell_type": "markdown",
   "metadata": {},
   "source": [
    "#### Flip horizontally/vertically"
   ]
  },
  {
   "cell_type": "code",
   "execution_count": null,
   "metadata": {},
   "outputs": [],
   "source": [
    "def flip(img, mode):\n",
    "    # Horizontal flip\n",
    "    if mode == \"1\":\n",
    "        return np.flip(img, axis=1)\n",
    "    \n",
    "    # Vertical flip\n",
    "    else:\n",
    "        return np.flip(img, axis=0)"
   ]
  },
  {
   "cell_type": "markdown",
   "metadata": {},
   "source": [
    "#### Convert to grayscale"
   ]
  },
  {
   "cell_type": "code",
   "execution_count": null,
   "metadata": {},
   "outputs": [],
   "source": [
    "def to_grayscale(img):\n",
    "    if img.ndim != 3:\n",
    "        raise ValueError(\"Cannot convert non-RGB to grayscale\")\n",
    "\n",
    "    num_channels = img.shape[-1]\n",
    "\n",
    "    if num_channels > 3:\n",
    "        print(\"WARNING: Alpha channel and will be disregarded. Non-RGB images may result in undesireable outputs\")\n",
    "    elif num_channels < 3:\n",
    "        raise ValueError(\"Cannot convert non-RGB to grayscale\")\n",
    "\n",
    "    grayscale = np.dot(img[:, :, :3], [0.299, 0.587, 0.114])\n",
    "    grayscale = np.clip(grayscale, a_min=0, a_max=255)\n",
    "    \n",
    "    return grayscale.astype(np.uint8)"
   ]
  },
  {
   "cell_type": "markdown",
   "metadata": {},
   "source": [
    "#### Convert to sepia"
   ]
  },
  {
   "cell_type": "code",
   "execution_count": null,
   "metadata": {},
   "outputs": [],
   "source": [
    "def to_sepia(img):\n",
    "    if img.ndim != 3:\n",
    "        raise ValueError(\"Cannot convert non-RGB to sepia\")\n",
    "    \n",
    "    num_channels = img.shape[-1]\n",
    "\n",
    "    if num_channels > 3:\n",
    "        print(\"WARNING: Alpha channel and will be disregarded. Non-RGB images may result in undesireable outputs\")\n",
    "    elif num_channels < 3:\n",
    "        raise ValueError(\"Cannot convert non-RGB to sepia\")\n",
    "\n",
    "    red = img[:, :, :1]\n",
    "    green = img[:, :, 1:2]\n",
    "    blue = img[:, :, 2:3]\n",
    "\n",
    "    sep_red = 0.393 * red + 0.769 * green + 0.189 * blue\n",
    "    sep_green = 0.349 * red + 0.686 * green + 0.168 * blue\n",
    "    sep_blue = 0.272 * red + 0.534 * green + 0.131 * blue\n",
    "\n",
    "    sepia = np.concatenate((sep_red, sep_green, sep_blue), axis=2)\n",
    "    sepia = np.clip(sepia, a_min=0, a_max=255)\n",
    "\n",
    "    return sepia.astype(np.uint8)"
   ]
  },
  {
   "cell_type": "markdown",
   "metadata": {},
   "source": [
    "#### Blur"
   ]
  },
  {
   "cell_type": "markdown",
   "metadata": {},
   "source": [
    "The details of the blurring algorithm is already covered in the report. In short, the program will generate a 2D Gaussian kernel based on the user's inputs. Then the kernel is convolved with the original image via the sliding window technique."
   ]
  },
  {
   "cell_type": "markdown",
   "metadata": {},
   "source": [
    "General 2-dimensional Gaussian function, which is in the shape of a bell curve:"
   ]
  },
  {
   "cell_type": "code",
   "execution_count": null,
   "metadata": {},
   "outputs": [],
   "source": [
    "def gaussian_2d(x, y, sigma):\n",
    "    coeff = 1. / (2. * np.pi * sigma**2) \n",
    "    return coeff * np.exp(\n",
    "        -1. * ((x**2 + y**2) / (2. * sigma**2))\n",
    "    ) "
   ]
  },
  {
   "cell_type": "markdown",
   "metadata": {},
   "source": [
    "Function to create a kernel with standard deviation `sigma` and the size of `dim`:"
   ]
  },
  {
   "cell_type": "code",
   "execution_count": null,
   "metadata": {},
   "outputs": [],
   "source": [
    "def generate_kernel(sigma, dim=3):\n",
    "    kernel = np.zeros((dim, dim))\n",
    "    center = dim // 2\n",
    "\n",
    "    y, x = np.ogrid[:dim, :dim]\n",
    "    kernel = gaussian_2d(x - center, y - center, sigma)\n",
    "\n",
    "    # Normalize so that sum(kernel) = 1\n",
    "    return kernel / np.sum(kernel)"
   ]
  },
  {
   "cell_type": "markdown",
   "metadata": {},
   "source": [
    "The `convolve` function will perform the main task of combining our input image with the created kernel:"
   ]
  },
  {
   "cell_type": "code",
   "execution_count": null,
   "metadata": {},
   "outputs": [],
   "source": [
    "def convolve(mat, ker):\n",
    "    '''\n",
    "    Convolves a matrix with 2D Gaussian kernel \n",
    "    '''\n",
    "\n",
    "    kdim = ker.shape[0]\n",
    "    matdim = mat.ndim\n",
    "\n",
    "    # VERY IMPORTATN!!!!! don't forgor plz\n",
    "    # Add new axis to allow broadcasting on each kernel element\n",
    "    if matdim > 2:\n",
    "        ker = ker[:, :, np.newaxis]\n",
    "\n",
    "    center = kdim // 2\n",
    "    \n",
    "    # Pad the edges of the matrix with 0s\n",
    "    if matdim > 2:\n",
    "        padded = np.pad(mat, ((center, center), (center, center), (0, 0)))\n",
    "    else:\n",
    "        padded = np.pad(mat, ((center, center), (center, center)))\n",
    "    \n",
    "    convolved = np.zeros(mat.shape)\n",
    "\n",
    "    # Convolve each pixel with the Gaussian kernel\n",
    "    for r in range(center, padded.shape[0] - center):\n",
    "        for c in range(center, padded.shape[1] - center):\n",
    "            pix_vals = padded[r - center:r + 1 + center, c - center:c + 1 + center]\n",
    "\n",
    "            # Performs the actual convolution on each pixel\n",
    "            if matdim > 2:\n",
    "                res = np.sum(np.sum(np.multiply(pix_vals, ker), axis=0), axis=0)\n",
    "            else:\n",
    "                res = np.sum(np.multiply(pix_vals, ker))\n",
    "                \n",
    "            convolved[r - center][c - center] = res\n",
    "\n",
    "    return convolved"
   ]
  },
  {
   "cell_type": "markdown",
   "metadata": {},
   "source": [
    "Finally, the `blur` function will blur the image using the utility functions defined above:"
   ]
  },
  {
   "cell_type": "code",
   "execution_count": null,
   "metadata": {},
   "outputs": [],
   "source": [
    "def blur(img, intensity, size=3):\n",
    "    if size <= 1:\n",
    "        size = 3\n",
    "        \n",
    "    if size % 2 == 0:\n",
    "        print(\"Kernel size must be an odd number, kernel size will be adjusted\")\n",
    "        size += 1\n",
    "\n",
    "    print(\"Initiating blurring procedure...\")\n",
    "    start = time.time()\n",
    "\n",
    "    kernel = generate_kernel(intensity, size)\n",
    "    print(\"Kernel generated. Beginning blurring procedure...\")\n",
    "\n",
    "    blurred = convolve(img, kernel)\n",
    "    end = time.time()\n",
    "    \n",
    "    print(f\"Finished in {str(end - start)} seconds, convolved with Gaussian 2D kernel:\")\n",
    "    print(f\"\\tsigma = {str(intensity)}\")\n",
    "    print(f\"\\tkernel_size = {str(size)}\")\n",
    "    \n",
    "    return blurred.astype(np.uint8)\n"
   ]
  },
  {
   "cell_type": "markdown",
   "metadata": {},
   "source": [
    "#### Sharpen"
   ]
  },
  {
   "cell_type": "markdown",
   "metadata": {},
   "source": [
    "The sharpening algorithm will make use of the `convolve` function from the previous section. This is the implementation of unsharp masking, which I also mentioned in the report."
   ]
  },
  {
   "cell_type": "code",
   "execution_count": null,
   "metadata": {},
   "outputs": [],
   "source": [
    "def sharpen(img, amount, size=3):\n",
    "    '''\n",
    "    Use unsharp masking to sharpen the image\n",
    "    '''\n",
    "\n",
    "    if size <= 1:\n",
    "        size = 3\n",
    "\n",
    "    if size % 2 == 0:\n",
    "        print(\"Kernel size must be an odd number, kernel size will be adjusted\")\n",
    "        size += 1\n",
    "\n",
    "    kernel = generate_kernel(sigma=100, dim=size)\n",
    "    \n",
    "    print(\"Kernel generated. Beginning sharpening procedure...\")\n",
    "    start = time.time()\n",
    "    \n",
    "    blurred = convolve(img, kernel)\n",
    "\n",
    "    mask = (img - blurred) * amount\n",
    "    mask = (mask * 127 / np.max(np.abs(mask))).astype(np.int8)\n",
    "\n",
    "    sharpened = img + mask\n",
    "    sharpened = np.clip(sharpened, a_min=0, a_max=255)\n",
    "\n",
    "    end = time.time()\n",
    "    print(f\"Finished in {str(end - start)} seconds\")\n",
    "\n",
    "    return sharpened.astype(np.uint8)\n",
    "    "
   ]
  },
  {
   "cell_type": "markdown",
   "metadata": {},
   "source": [
    "#### Crop from center"
   ]
  },
  {
   "cell_type": "code",
   "execution_count": null,
   "metadata": {},
   "outputs": [],
   "source": [
    "def crop(img, crop_size):\n",
    "    img_width, img_height = img.shape[1], img.shape[0]\n",
    "    crop_width, crop_height = crop_size\n",
    "\n",
    "    if crop_width > img_width or crop_height > img_height:\n",
    "        raise ValueError(\"Crop size exceeds image resolution\")\n",
    "    \n",
    "    start_w, start_h = (img_width - crop_width) // 2, (img_height - crop_height) // 2\n",
    "\n",
    "    return img[start_h:-start_h, start_w:-start_w]"
   ]
  },
  {
   "cell_type": "markdown",
   "metadata": {},
   "source": [
    "#### Create a circular mask"
   ]
  },
  {
   "cell_type": "code",
   "execution_count": null,
   "metadata": {},
   "outputs": [],
   "source": [
    "def mask_cir(img):\n",
    "    applied = img.copy()\n",
    "\n",
    "    # Grid and center for circular mask\n",
    "    y, x = np.ogrid[:img.shape[0], :img.shape[1]]\n",
    "    c_y, c_x = img.shape[0] / 2, img.shape[1] / 2\n",
    "\n",
    "    radius = min(img.shape[0], img.shape[1]) / 2\n",
    "\n",
    "    # Matrix of distance between each point and center\n",
    "    distance = np.sqrt((x - c_x)**2 + (y - c_y)**2)\n",
    "\n",
    "    cir_mask = distance > radius\n",
    "    applied[cir_mask] = 0\n",
    "\n",
    "    return applied"
   ]
  },
  {
   "cell_type": "markdown",
   "metadata": {},
   "source": [
    "#### Create a cross elliptical mask"
   ]
  },
  {
   "cell_type": "code",
   "execution_count": null,
   "metadata": {},
   "outputs": [],
   "source": [
    "def mask_ell(img):\n",
    "    applied = img.copy()\n",
    "\n",
    "    height, width = img.shape[0], img.shape[1]\n",
    "    angle = np.arctan(height / width)\n",
    "\n",
    "    major_axis = np.sqrt(height**2 + width**2)\n",
    "    minor_axis = major_axis / 3\n",
    "    a = major_axis / 2 \n",
    "    b = minor_axis / 2 \n",
    "\n",
    "    c_y, c_x = height // 2, width // 2\n",
    "    y, x = np.ogrid[:height, :width]\n",
    "    y, x = y - c_y, x - c_x\n",
    "\n",
    "    # Ellipse 1\n",
    "    rotated_x_1 = -1. * np.cos(-1 * angle) * x + np.sin(-1 * angle) * y\n",
    "    rotated_y_1 = np.sin(-1 * angle) * x + np.cos(-1 * angle) * y\n",
    "    e_1 = (rotated_x_1)**2 / a**2 + (rotated_y_1)**2 / b**2\n",
    "\n",
    "    # Ellipse 2\n",
    "    rotated_x_2 = -1. * np.cos(angle) * x + np.sin(angle) * y\n",
    "    rotated_y_2 = np.sin(angle) * x + np.cos(angle) * y\n",
    "    e_2 = (rotated_x_2)**2 / a**2 + (rotated_y_2)**2 / b**2\n",
    "\n",
    "    ell_mask_1 = e_1 > 1\n",
    "    ell_mask_2 = e_2 > 1\n",
    "\n",
    "    applied[ell_mask_1 & ell_mask_2] = 0\n",
    "\n",
    "    return applied"
   ]
  },
  {
   "cell_type": "markdown",
   "metadata": {},
   "source": [
    "#### Other utility functions"
   ]
  },
  {
   "cell_type": "markdown",
   "metadata": {},
   "source": [
    "Although it is unnecessary for this project, I believe having a plot with histograms displaying the distribution of each channel's intensity can help a lot in analyzing images, especially for people who are familiar with media editing softwares like Adobe Lightroom or Photoshop."
   ]
  },
  {
   "cell_type": "code",
   "execution_count": null,
   "metadata": {},
   "outputs": [],
   "source": [
    "def render_histogram(img, ax):\n",
    "    if img.ndim == 3:\n",
    "        num_channels = img.shape[-1]\n",
    "        img = np.reshape(img, (-1, num_channels))\n",
    "\n",
    "        if num_channels > 3:\n",
    "            print(\"WARNING: Number of channels exceeded 3, alpha channel will not be counted\")\n",
    "            num_channels -= 1\n",
    "\n",
    "        colors = [\"red\", \"green\", \"blue\"]\n",
    "        data = np.array([np.take(img, a, axis=1) for a in range(num_channels)])\n",
    "        for i, d in enumerate(data):\n",
    "            ax.hist(d, bins=50, range=(0, 255), color=colors[i], alpha=0.3)\n",
    "            \n",
    "    else:\n",
    "        ax.hist(img.flatten(), bins=50, range=(0, 255), color=\"magenta\", alpha=0.3)\n",
    "        \n",
    "    ax.set_xlim(0, 255)\n",
    "    ax.set_xlabel(\"Channel intensity\")\n",
    "    ax.set_ylabel(\"Count\")\n",
    "\n",
    "\n",
    "def summary_plot(original, processed, draw_curve=False, gamma=None):\n",
    "    fig, ax = plt.subplots(2, 2)\n",
    "\n",
    "    if processed.ndim == 2:\n",
    "        ax[0][0].imshow(original, cmap=\"gray\")\n",
    "    else:\n",
    "        ax[0][0].imshow(original)\n",
    "        \n",
    "    render_histogram(original, ax[0][1])\n",
    "    \n",
    "    if processed.ndim == 2:\n",
    "        ax[1][0].imshow(processed, cmap=\"gray\")\n",
    "    else:\n",
    "        ax[1][0].imshow(processed)\n",
    "        \n",
    "    render_histogram(processed, ax[1][1])\n",
    "\n",
    "    if draw_curve:\n",
    "        ax_curve = ax[1][1].inset_axes([.7, .61, .3, .3])\n",
    "        ax_curve.set_aspect('equal')\n",
    "        \n",
    "        x = np.linspace(0, 0.5, 1000)\n",
    "        lower = lower_curve(x, gamma)\n",
    "        upper = upper_curve(x + 0.5, gamma)\n",
    "        ax_curve.plot(x, lower)\n",
    "        ax_curve.plot(x + 0.5, upper)\n",
    "        ax_curve.set_title(\"Tone curve\")\n",
    "\n",
    "    fig.set_size_inches((15, 13), forward=False)\n",
    "    \n",
    "    plt.show()"
   ]
  },
  {
   "cell_type": "markdown",
   "metadata": {},
   "source": [
    "The `handle_input` function is purely to collect information about the image and configuration via user inputs."
   ]
  },
  {
   "cell_type": "code",
   "execution_count": null,
   "metadata": {},
   "outputs": [],
   "source": [
    "def handle_input():\n",
    "    modes = {\"1\": \"brightness\",\n",
    "             \"2\": \"contrast\",\n",
    "             \"3\": \"flip\",\n",
    "             \"4\": \"grayscale\",\n",
    "             \"5\": \"sepia\",\n",
    "             \"6\": \"blur\",\n",
    "             \"7\": \"sharpen\",\n",
    "             \"8\": \"crop\",\n",
    "             \"9\": \"cirmask\",\n",
    "             \"10\": \"ellmask\",\n",
    "             \"0\": \"all\"}\n",
    "\n",
    "    img_path = input(\"Enter image path: \")\n",
    "\n",
    "    with PIL.Image.open(img_path) as img:\n",
    "        pixels = np.array(img)\n",
    "\n",
    "    out_type = input(\"Enter output file type (png, pdf): \")\n",
    "    while out_type not in [\"png\", \"pdf\"]:\n",
    "        out_type = input(\"Unsupported type. Please re-enter: \")\n",
    "\n",
    "    choice = input(\"Modes:\\n \\\n",
    "                   1 - Adjust brightness \\n \\\n",
    "                   2 - Adjust contrast \\n \\\n",
    "                   3 - Flip \\n \\\n",
    "                   4 - Convert grayscale \\n \\\n",
    "                   5 - Convert sepia \\n \\\n",
    "                   6 - Blur \\n \\\n",
    "                   7 - Sharpen \\n \\\n",
    "                   8 - Crop center \\n \\\n",
    "                   9 - Apply circular mask \\n \\\n",
    "                   10 - Apply elliptical mask \\n \\\n",
    "                   0 - All\")\n",
    "    \n",
    "    while choice not in modes:\n",
    "        choice = input(\"Processing mode not found. Please re-enter: \")\n",
    "\n",
    "    config = []\n",
    "    \n",
    "    if choice == \"1\":\n",
    "        intensity = input(\"Enter intensity (> 1 to increase, < 1 to decrease): \")\n",
    "        intensity = float(intensity)\n",
    "        config.append(intensity)\n",
    "\n",
    "    elif choice == \"2\":\n",
    "        intensity = input(\"Enter intensity (> 1 to increase, < 1 to decrease): \")\n",
    "        intensity = float(intensity)\n",
    "        config.append(intensity)\n",
    "\n",
    "        contrast_mode = input(\"Enter contrast enhancement mode (multiply (default), curve) (leave blank to run as default): \")\n",
    "        while contrast_mode not in [\"\", \"multiply\", \"curve\"]:\n",
    "            contrast_mode = input(\"Invalid mode. Please re-enter: \")\n",
    "\n",
    "        config.append(contrast_mode)\n",
    "\n",
    "    elif choice == \"3\":\n",
    "        orientation = input(\"Select flipping mode (1 - horizontal, 2 - vertical): \")\n",
    "        while orientation not in [\"1\", \"2\"]:\n",
    "            orientation = input(\"Invalid orientation. Please re-enter: \")\n",
    "\n",
    "        config.append(orientation)\n",
    "\n",
    "    elif choice == \"6\":\n",
    "        amount = input(\"Enter amount of blurring: \")\n",
    "        amount = float(amount)\n",
    "        config.append(amount)\n",
    "\n",
    "        radius = input(\"Enter kernel size (pixels): \")\n",
    "        radius = int(radius)\n",
    "        config.append(radius)\n",
    "\n",
    "    elif choice == \"7\":\n",
    "        amount = input(\"Enter amount of sharpening: \")\n",
    "        amount = float(amount)\n",
    "        config.append(amount)\n",
    "\n",
    "        radius = input(\"Enter kernel size (pixels): \")\n",
    "        radius = int(radius)\n",
    "        config.append(radius)\n",
    "\n",
    "    elif choice == \"8\":\n",
    "        width = input(\"Enter cropping width: \")\n",
    "        height = input(\"Enter cropping height: \")\n",
    "        crop_size = int(width), int(height)\n",
    "        config.append(crop_size)\n",
    "\n",
    "    elif choice == \"0\":\n",
    "        # --- Brightness adjustment\n",
    "        b_intensity = input(\"Enter brightness intensity (> 1 to increase, < 1 to decrease): \")\n",
    "        b_intensity = float(b_intensity)\n",
    "        config.append(b_intensity)\n",
    "\n",
    "        # --- Contrast adjustment\n",
    "        contrast = []\n",
    "        c_intensity = input(\"Enter contrast intensity (> 1 to increase, < 1 to decrease): \")\n",
    "        c_intensity = float(c_intensity)\n",
    "        contrast.append(c_intensity)\n",
    "\n",
    "        contrast_mode = input(\"Enter contrast enhancement mode (multiply (default), curve) (leave blank to run as default): \")\n",
    "        while contrast_mode not in [\"\", \"multiply\", \"curve\"]:\n",
    "            contrast_mode = input(\"Invalid mode. Please re-enter: \")\n",
    "\n",
    "        contrast.append(contrast_mode)\n",
    "        config.append(contrast)\n",
    "\n",
    "        # --- Flip\n",
    "        orientation = input(\"Select flipping mode (1 - horizontal, 2 - vertical): \")\n",
    "        while orientation not in [\"1\", \"2\"]:\n",
    "            orientation = input(\"Invalid orientation. Please re-enter: \")\n",
    "\n",
    "        config.append(orientation)\n",
    "\n",
    "        # --- Blurring \n",
    "        blur = []\n",
    "        amount = input(\"Enter amount of blurring: \")\n",
    "        amount = float(amount)\n",
    "        blur.append(amount)\n",
    "\n",
    "        radius = input(\"Enter blurring radius (pixels): \")\n",
    "        radius = int(radius)\n",
    "        blur.append(radius)\n",
    "\n",
    "        config.append(blur)\n",
    "\n",
    "        # --- Sharpening\n",
    "        sharpen = []\n",
    "        amount = input(\"Enter amount of sharpening: \")\n",
    "        amount = float(amount)\n",
    "        sharpen.append(amount)\n",
    "\n",
    "        radius = input(\"Enter sharpening radius (pixels): \")\n",
    "        radius = int(radius)\n",
    "        sharpen.append(radius)\n",
    "\n",
    "        config.append(sharpen)\n",
    "\n",
    "        # --- Cropping\n",
    "        width = input(\"Enter cropping width: \")\n",
    "        height = input(\"Enter cropping height: \")\n",
    "        crop_size = int(width), int(height)\n",
    "        config.append(crop_size)\n",
    "\n",
    "\n",
    "    return img_path, pixels, out_type, modes[choice], config"
   ]
  },
  {
   "cell_type": "markdown",
   "metadata": {},
   "source": [
    "Finally, the `main` function. All of the pre-defined tasks will be called here, thus executing the entire program."
   ]
  },
  {
   "cell_type": "code",
   "execution_count": null,
   "metadata": {},
   "outputs": [],
   "source": [
    "def main():\n",
    "    img_path, img, out_type, mode, config = handle_input()\n",
    "\n",
    "    img_name = \"\"\n",
    "    img_path = img_path.split('.')\n",
    "    img_name = img_name.join(img_path[:-1])\n",
    "    # img_name = \"output/\" + img_name\n",
    "\n",
    "    original = img.copy()\n",
    "\n",
    "    draw_curve = False\n",
    "    gamma = None\n",
    "\n",
    "    if mode == \"brightness\":\n",
    "        processed = adjust_brightness(img, factor=config[0])\n",
    "        \n",
    "    elif mode == \"contrast\":\n",
    "        intensity, cont_mode = config\n",
    "        processed = adjust_contrast(img, intensity, mode=cont_mode)\n",
    "        if cont_mode == \"curve\":\n",
    "            draw_curve = True\n",
    "            gamma = intensity\n",
    "\n",
    "    elif mode == \"flip\": processed = flip(img, config[0])\n",
    "    elif mode == \"grayscale\": processed = to_grayscale(img)\n",
    "    elif mode == \"sepia\": processed = to_sepia(img)\n",
    "\n",
    "    elif mode == \"blur\":\n",
    "        amount, radius = config\n",
    "        processed = blur(img, amount, size=radius)\n",
    "\n",
    "    elif mode == \"sharpen\":\n",
    "        amount, radius = config\n",
    "        processed = sharpen(img, amount, size=radius)\n",
    "\n",
    "    elif mode == \"crop\": processed = crop(img, crop_size=config[0])\n",
    "    elif mode == \"cirmask\": processed = mask_cir(img)\n",
    "    elif mode == \"ellmask\": processed = mask_ell(img)\n",
    "\n",
    "    elif mode == \"all\":\n",
    "        config_brightness = config[0]\n",
    "        config_contrast = config[1]\n",
    "        config_flip = config[2]\n",
    "        config_blur = config[3]\n",
    "        config_sharpen = config[4]\n",
    "        config_crop = config[5]\n",
    "\n",
    "        bright = adjust_brightness(img.copy(), factor=config_brightness)\n",
    "        bright = np.ascontiguousarray(bright)\n",
    "        plt.imsave(img_name + \"_brightness.\" + out_type, bright)\n",
    "        print(\"--- Brightness adjusted\")\n",
    "\n",
    "        contrast = adjust_contrast(img.copy(), config_contrast[0], mode=config_contrast[1])\n",
    "        contrast = np.ascontiguousarray(contrast)\n",
    "        plt.imsave(img_name + \"_contrast.\" + out_type, contrast)\n",
    "        print(\"--- Contrast adjusted\")\n",
    "\n",
    "        flipped = flip(img.copy(), config_flip)\n",
    "        flipped = np.ascontiguousarray(flipped)\n",
    "        plt.imsave(img_name + \"_flip.\" + out_type, flipped)\n",
    "        print(\"--- Flipped\")\n",
    "\n",
    "        gray = to_grayscale(img.copy())\n",
    "        gray = np.ascontiguousarray(gray)\n",
    "        plt.imsave(img_name + \"_grayscale.\" + out_type, gray, cmap=\"gray\")\n",
    "        print(\"--- Converted to grayscale\")\n",
    "\n",
    "        sepia = to_sepia(img.copy())\n",
    "        sepia = np.ascontiguousarray(sepia)\n",
    "        plt.imsave(img_name + \"_sepia.\" + out_type, sepia)\n",
    "        print(\"--- Converted to sepia\")\n",
    "\n",
    "        blurred = blur(img.copy(), config_blur[0], config_blur[1])\n",
    "        blurred = np.ascontiguousarray(blurred)\n",
    "        plt.imsave(img_name + \"_blur.\" + out_type, blurred)\n",
    "        print(\"--- Blurred\")\n",
    "\n",
    "        sharpened = sharpen(img.copy(), config_sharpen[0], config_sharpen[1])\n",
    "        sharpened = np.ascontiguousarray(sharpened)\n",
    "        plt.imsave(img_name + \"_sharpen.\" + out_type, sharpened)\n",
    "        print(\"--- Sharpened\")\n",
    "\n",
    "        cropped = crop(img.copy(), config_crop)\n",
    "        cropped = np.ascontiguousarray(cropped)\n",
    "        plt.imsave(img_name + \"_crop.\" + out_type, cropped)\n",
    "        print(\"--- Cropped\")\n",
    "\n",
    "        masked_cir = mask_cir(img.copy())\n",
    "        masked_cir = np.ascontiguousarray(masked_cir)\n",
    "        plt.imsave(img_name + \"_circular_mask.\" + out_type, masked_cir)\n",
    "        print(\"--- Applied circular mask\")\n",
    "        \n",
    "        masked_ell = mask_ell(img.copy())\n",
    "        masked_ell = np.ascontiguousarray(masked_ell)\n",
    "        plt.imsave(img_name + \"_elliptical_mask.\" + out_type, masked_ell)\n",
    "        print(\"--- Applied elliptical mask\")\n",
    "\n",
    "    if mode != \"all\":\n",
    "        processed = np.ascontiguousarray(processed)\n",
    "\n",
    "        if mode == \"grayscale\":\n",
    "            plt.imsave(img_name + \"_\" + mode + \".\" + out_type, processed, cmap=\"gray\")\n",
    "        else:\n",
    "            plt.imsave(img_name + \"_\" + mode + \".\" + out_type, processed)\n",
    "\n",
    "        # Plots original and processed, with histogram \n",
    "        summary_plot(original, processed, draw_curve=draw_curve, gamma=gamma)"
   ]
  },
  {
   "cell_type": "markdown",
   "metadata": {},
   "source": [
    "Let us run the `main` program and observe the results!"
   ]
  },
  {
   "cell_type": "code",
   "execution_count": null,
   "metadata": {},
   "outputs": [],
   "source": [
    "main()"
   ]
  },
  {
   "cell_type": "markdown",
   "metadata": {},
   "source": [
    "### REFERENCES\n",
    "Please refer to the PDF file to view full citations."
   ]
  }
 ],
 "metadata": {
  "kernelspec": {
   "display_name": "Python 3",
   "language": "python",
   "name": "python3"
  },
  "language_info": {
   "codemirror_mode": {
    "name": "ipython",
    "version": 3
   },
   "file_extension": ".py",
   "mimetype": "text/x-python",
   "name": "python",
   "nbconvert_exporter": "python",
   "pygments_lexer": "ipython3",
   "version": "3.10.5"
  },
  "orig_nbformat": 4
 },
 "nbformat": 4,
 "nbformat_minor": 2
}
